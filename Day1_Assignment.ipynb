{
  "nbformat": 4,
  "nbformat_minor": 0,
  "metadata": {
    "colab": {
      "name": "Day1_Assignment.ipynb",
      "provenance": [],
      "authorship_tag": "ABX9TyNq+6V6aKmp5aD3D8nNjQ4F",
      "include_colab_link": true
    },
    "kernelspec": {
      "name": "python3",
      "display_name": "Python 3"
    },
    "language_info": {
      "name": "python"
    }
  },
  "cells": [
    {
      "cell_type": "markdown",
      "metadata": {
        "id": "view-in-github",
        "colab_type": "text"
      },
      "source": [
        "<a href=\"https://colab.research.google.com/github/LP-Shreya/Assignments-Data_Visualization/blob/main/Day1_Assignment.ipynb\" target=\"_parent\"><img src=\"https://colab.research.google.com/assets/colab-badge.svg\" alt=\"Open In Colab\"/></a>"
      ]
    },
    {
      "cell_type": "markdown",
      "metadata": {
        "id": "HjQJG53g2cj0"
      },
      "source": [
        "There was a little confusion regarding which questions to follow as of mentioned in lecture or provided in the pdf.\n",
        "So I have tried to implement both pls look into it.\n",
        "Thank you for your support"
      ]
    },
    {
      "cell_type": "code",
      "metadata": {
        "id": "qaXHjVmmNYzl"
      },
      "source": [
        "import numpy as np\n",
        "# import pandas as pd\n",
        "# import seaborn as sns\n",
        "\n",
        "# import matplotlib as mpl\n",
        "import matplotlib.pyplot as plt\n",
        "import numpy as np\n",
        "%matplotlib inline\n",
        "# from numpy.random import randn,randint,uniform,sample"
      ],
      "execution_count": 2,
      "outputs": []
    },
    {
      "cell_type": "markdown",
      "metadata": {
        "id": "kRdkr1n1NPG8"
      },
      "source": [
        "**LECTURE ASSIGNMENT 1** \n",
        "---\n",
        "Plot a line graph having line equation as y=3*x+10 where x ranges from 0-9\n",
        "\n",
        "\n",
        "\n"
      ]
    },
    {
      "cell_type": "code",
      "metadata": {
        "colab": {
          "base_uri": "https://localhost:8080/",
          "height": 312
        },
        "id": "4JPOXfLENU5h",
        "outputId": "e2942c6f-e0a1-4693-e6c9-4c7fc63dde11"
      },
      "source": [
        "# x ranges from 0-9 and  y is square of x \n",
        "x=np.arange(0,10)\n",
        "y=3*x+10\n",
        "plt.title('2d-Diagram',c='g')\n",
        "plt.xlabel('x axis',c='b')\n",
        "plt.ylabel(\"y axis\",c='b')\n",
        "plt.plot(x,y,'o--',linewidth=1,markersize=9,mfc='r')"
      ],
      "execution_count": 3,
      "outputs": [
        {
          "output_type": "execute_result",
          "data": {
            "text/plain": [
              "[<matplotlib.lines.Line2D at 0x7ff3cda938d0>]"
            ]
          },
          "metadata": {
            "tags": []
          },
          "execution_count": 3
        },
        {
          "output_type": "display_data",
          "data": {
            "image/png": "[encoded data removed]",
            "text/plain": [
              "<Figure size 432x288 with 1 Axes>"
            ]
          },
          "metadata": {
            "tags": [],
            "needs_background": "light"
          }
        }
      ]
    },
    {
      "cell_type": "code",
      "metadata": {
        "colab": {
          "base_uri": "https://localhost:8080/"
        },
        "id": "cRELHABlNeg0",
        "outputId": "fa46d1f6-5e42-4c3b-c1f0-cd87b8e6daed"
      },
      "source": [
        "x"
      ],
      "execution_count": 5,
      "outputs": [
        {
          "output_type": "execute_result",
          "data": {
            "text/plain": [
              "array([0, 1, 2, 3, 4, 5, 6, 7, 8, 9])"
            ]
          },
          "metadata": {
            "tags": []
          },
          "execution_count": 5
        }
      ]
    },
    {
      "cell_type": "code",
      "metadata": {
        "colab": {
          "base_uri": "https://localhost:8080/"
        },
        "id": "PitZXlBvNf-8",
        "outputId": "be8f90f6-7d89-45fa-a996-d06441c2d773"
      },
      "source": [
        "y"
      ],
      "execution_count": 6,
      "outputs": [
        {
          "output_type": "execute_result",
          "data": {
            "text/plain": [
              "array([10, 13, 16, 19, 22, 25, 28, 31, 34, 37])"
            ]
          },
          "metadata": {
            "tags": []
          },
          "execution_count": 6
        }
      ]
    },
    {
      "cell_type": "code",
      "metadata": {
        "colab": {
          "base_uri": "https://localhost:8080/",
          "height": 282
        },
        "id": "GsYThic6O50J",
        "outputId": "d39a541b-fee6-4f51-e5ff-dca431981fa7"
      },
      "source": [
        "plt.subplot(2,2,1)\n",
        "plt.plot(x,y,'ro--')\n",
        "plt.subplot(2,2,2)\n",
        "plt.plot(x,y,'g*--')\n",
        "plt.subplot(2,2,3)\n",
        "plt.plot(x,y,'b+')\n",
        "plt.subplot(2,2,4)\n",
        "plt.plot(x,y,'r')"
      ],
      "execution_count": 7,
      "outputs": [
        {
          "output_type": "execute_result",
          "data": {
            "text/plain": [
              "[<matplotlib.lines.Line2D at 0x7ff3c6558310>]"
            ]
          },
          "metadata": {
            "tags": []
          },
          "execution_count": 7
        },
        {
          "output_type": "display_data",
          "data": {
            "image/png": "[encoded data removed]",
            "text/plain": [
              "<Figure size 432x288 with 4 Axes>"
            ]
          },
          "metadata": {
            "tags": [],
            "needs_background": "light"
          }
        }
      ]
    },
    {
      "cell_type": "markdown",
      "metadata": {
        "id": "ODKvxuJnOMOj"
      },
      "source": [
        "\n",
        "\n",
        "---\n",
        "\n"
      ]
    },
    {
      "cell_type": "markdown",
      "metadata": {
        "id": "CEYTtq50NiJ8"
      },
      "source": [
        "\n",
        "**LECTURE ASSIGNMENT 2**\n",
        "---\n",
        "\n",
        "\n",
        "Plot sales of a product against 7 days, where the values of product on each day are (160,150,140,145,175,165,180)"
      ]
    },
    {
      "cell_type": "code",
      "metadata": {
        "id": "vhhO1NWEORuQ"
      },
      "source": [
        "days=[1,2,3,4,5,6,7]\n",
        "sales=[160,150,140,145,175,165,180]"
      ],
      "execution_count": 8,
      "outputs": []
    },
    {
      "cell_type": "code",
      "metadata": {
        "colab": {
          "base_uri": "https://localhost:8080/"
        },
        "id": "AxQ-8uSCOYDC",
        "outputId": "f2676b2c-7773-42b5-a186-22fa8d4a5c93"
      },
      "source": [
        "days"
      ],
      "execution_count": 9,
      "outputs": [
        {
          "output_type": "execute_result",
          "data": {
            "text/plain": [
              "[1, 2, 3, 4, 5, 6, 7]"
            ]
          },
          "metadata": {
            "tags": []
          },
          "execution_count": 9
        }
      ]
    },
    {
      "cell_type": "code",
      "metadata": {
        "colab": {
          "base_uri": "https://localhost:8080/"
        },
        "id": "OOiXFBtNObZz",
        "outputId": "e58718f2-d86f-4bde-e00a-a13b5d1dbbd0"
      },
      "source": [
        "sales"
      ],
      "execution_count": 10,
      "outputs": [
        {
          "output_type": "execute_result",
          "data": {
            "text/plain": [
              "[160, 150, 140, 145, 175, 165, 180]"
            ]
          },
          "metadata": {
            "tags": []
          },
          "execution_count": 10
        }
      ]
    },
    {
      "cell_type": "code",
      "metadata": {
        "colab": {
          "base_uri": "https://localhost:8080/",
          "height": 312
        },
        "id": "3nmMgjlAOeBA",
        "outputId": "f3415554-140b-4257-ded6-0c4a96db7e87"
      },
      "source": [
        "plt.plot(days,sales,'o--',linewidth=1,markersize=9,mfc='r')\n",
        "plt.title('SALES Report',c='g')\n",
        "plt.xlabel('Days',c='b')\n",
        "plt.ylabel(\"sales\",c='b')\n"
      ],
      "execution_count": 11,
      "outputs": [
        {
          "output_type": "execute_result",
          "data": {
            "text/plain": [
              "Text(0, 0.5, 'sales')"
            ]
          },
          "metadata": {
            "tags": []
          },
          "execution_count": 11
        },
        {
          "output_type": "display_data",
          "data": {
            "image/png": "[encoded data removed]",
            "text/plain": [
              "<Figure size 432x288 with 1 Axes>"
            ]
          },
          "metadata": {
            "tags": [],
            "needs_background": "light"
          }
        }
      ]
    },
    {
      "cell_type": "code",
      "metadata": {
        "colab": {
          "base_uri": "https://localhost:8080/",
          "height": 282
        },
        "id": "kT5mMrg_Of_L",
        "outputId": "b3d8e0cf-11f4-4ec2-bb30-d2f92f3f417d"
      },
      "source": [
        "plt.subplot(2,2,1)\n",
        "plt.plot(days,sales,'ro--')\n",
        "plt.subplot(2,2,2)\n",
        "plt.plot(days,sales,'g*--')\n",
        "plt.subplot(2,2,3)\n",
        "plt.plot(days,sales,'b+')\n",
        "plt.subplot(2,2,4)\n",
        "plt.plot(days,sales,'r')"
      ],
      "execution_count": 12,
      "outputs": [
        {
          "output_type": "execute_result",
          "data": {
            "text/plain": [
              "[<matplotlib.lines.Line2D at 0x7ff3c633ab90>]"
            ]
          },
          "metadata": {
            "tags": []
          },
          "execution_count": 12
        },
        {
          "output_type": "display_data",
          "data": {
            "image/png": "[encoded data removed]",
            "text/plain": [
              "<Figure size 432x288 with 4 Axes>"
            ]
          },
          "metadata": {
            "tags": [],
            "needs_background": "light"
          }
        }
      ]
    },
    {
      "cell_type": "markdown",
      "metadata": {
        "id": "gVaiV3_ezuq0"
      },
      "source": [
        "\n",
        "\n",
        "---\n",
        "\n"
      ]
    },
    {
      "cell_type": "markdown",
      "metadata": {
        "id": "-iXizN75zwG0"
      },
      "source": [
        "**PDF ASSIGNMENT 1**\n",
        "\n",
        "---\n",
        "\n",
        "\n",
        "Plot a line plot between a and b:\n",
        "a=np.arange(40,50)\n",
        "b=np.arange(50,60)\n"
      ]
    },
    {
      "cell_type": "code",
      "metadata": {
        "id": "LkdukJtRz7H0"
      },
      "source": [
        "a=np.arange(40,50)\n",
        "b=np.arange(50,60)"
      ],
      "execution_count": 13,
      "outputs": []
    },
    {
      "cell_type": "code",
      "metadata": {
        "colab": {
          "base_uri": "https://localhost:8080/"
        },
        "id": "IzZoF4EK0Ryd",
        "outputId": "71d86f9c-aab8-4c0b-82dc-c18aef043b80"
      },
      "source": [
        "a"
      ],
      "execution_count": 14,
      "outputs": [
        {
          "output_type": "execute_result",
          "data": {
            "text/plain": [
              "array([40, 41, 42, 43, 44, 45, 46, 47, 48, 49])"
            ]
          },
          "metadata": {
            "tags": []
          },
          "execution_count": 14
        }
      ]
    },
    {
      "cell_type": "code",
      "metadata": {
        "colab": {
          "base_uri": "https://localhost:8080/"
        },
        "id": "XIzPFjc80SpU",
        "outputId": "7abd9010-428d-41d7-810b-786d2e86a57e"
      },
      "source": [
        "b"
      ],
      "execution_count": 15,
      "outputs": [
        {
          "output_type": "execute_result",
          "data": {
            "text/plain": [
              "array([50, 51, 52, 53, 54, 55, 56, 57, 58, 59])"
            ]
          },
          "metadata": {
            "tags": []
          },
          "execution_count": 15
        }
      ]
    },
    {
      "cell_type": "code",
      "metadata": {
        "colab": {
          "base_uri": "https://localhost:8080/",
          "height": 312
        },
        "id": "8HF5djnX0TfE",
        "outputId": "e1154971-fa08-41b9-943a-a9fcda31c15d"
      },
      "source": [
        "plt.plot(a,b,'go')\n",
        "plt.title('Diagram',c='b')\n",
        "plt.xlabel('xaxis-a',c='r')\n",
        "plt.ylabel(\"yaxiz-b\",c='r')"
      ],
      "execution_count": 18,
      "outputs": [
        {
          "output_type": "execute_result",
          "data": {
            "text/plain": [
              "Text(0, 0.5, 'yaxiz-b')"
            ]
          },
          "metadata": {
            "tags": []
          },
          "execution_count": 18
        },
        {
          "output_type": "display_data",
          "data": {
            "image/png": "[encoded data removed]",
            "text/plain": [
              "<Figure size 432x288 with 1 Axes>"
            ]
          },
          "metadata": {
            "tags": [],
            "needs_background": "light"
          }
        }
      ]
    },
    {
      "cell_type": "markdown",
      "metadata": {
        "id": "R5s4wCnJ0jYD"
      },
      "source": [
        "\n",
        "\n",
        "---\n",
        "\n"
      ]
    },
    {
      "cell_type": "markdown",
      "metadata": {
        "id": "8SuYGPH-0cQc"
      },
      "source": [
        "**PDF ASSIGNMENT 2**\n",
        "\n",
        "---\n",
        "\n",
        "\n",
        "Plot a line plot showing the sales trend in company 1 and 2:\n",
        "\n",
        "days = [1,2,3,4,5,6,7] #days of d week\n",
        "sales_1 = [160,150,140,145,175,165,180] #sales of company1\n",
        "sales_2 = [70,90,160,150,140,145,175]  #sales of company2\n"
      ]
    },
    {
      "cell_type": "code",
      "metadata": {
        "id": "W-4d-Rzw0lMU"
      },
      "source": [
        "days=[1,2,3,4,5,6,7]\n",
        "sales_1=[160,150,140,145,175,165,180]\n",
        "sales_2= [70,90,160,150,140,145,175]"
      ],
      "execution_count": 17,
      "outputs": []
    },
    {
      "cell_type": "code",
      "metadata": {
        "colab": {
          "base_uri": "https://localhost:8080/",
          "height": 312
        },
        "id": "IRcCTRhq0uV0",
        "outputId": "a5f30214-3903-4a7a-eb9e-d623666a97da"
      },
      "source": [
        "plt.plot(days,sales_1,'o--',linewidth=1,markersize=9,mfc='r')\n",
        "plt.title('SALES Report of Company 1',c='g')\n",
        "plt.xlabel('Days',c='b')\n",
        "plt.ylabel(\"sales\",c='b')"
      ],
      "execution_count": 19,
      "outputs": [
        {
          "output_type": "execute_result",
          "data": {
            "text/plain": [
              "Text(0, 0.5, 'sales')"
            ]
          },
          "metadata": {
            "tags": []
          },
          "execution_count": 19
        },
        {
          "output_type": "display_data",
          "data": {
            "image/png": "[encoded data removed]",
            "text/plain": [
              "<Figure size 432x288 with 1 Axes>"
            ]
          },
          "metadata": {
            "tags": [],
            "needs_background": "light"
          }
        }
      ]
    },
    {
      "cell_type": "code",
      "metadata": {
        "colab": {
          "base_uri": "https://localhost:8080/",
          "height": 312
        },
        "id": "M6tTXeNw1Q5V",
        "outputId": "c3ac2515-7ce0-4baf-b35e-516a2ef3b473"
      },
      "source": [
        "plt.plot(days,sales_2,'o--',linewidth=1,markersize=9,mfc='r')\n",
        "plt.title('SALES Report of Company 2',c='g')\n",
        "plt.xlabel('Days',c='b')\n",
        "plt.ylabel(\"sales\",c='b')"
      ],
      "execution_count": 21,
      "outputs": [
        {
          "output_type": "execute_result",
          "data": {
            "text/plain": [
              "Text(0, 0.5, 'sales')"
            ]
          },
          "metadata": {
            "tags": []
          },
          "execution_count": 21
        },
        {
          "output_type": "display_data",
          "data": {
            "image/png": "[encoded data removed]",
            "text/plain": [
              "<Figure size 432x288 with 1 Axes>"
            ]
          },
          "metadata": {
            "tags": [],
            "needs_background": "light"
          }
        }
      ]
    },
    {
      "cell_type": "markdown",
      "metadata": {
        "id": "eXwnInnd1Y8s"
      },
      "source": [
        "**PDF ASSIGNMENT 3**\n",
        "\n",
        "---\n",
        " Create a 3 by 3 subplots:\n",
        "multiple plots\n",
        "x = [1,2,3,4]\n",
        "y1 = [4,3,2,1]\n",
        "y2 = [10,20,30,40]\n",
        "y3 = [40,30,20,10]\n",
        "y4 = [1,2,1,2]\n",
        "y5 = [40,70,90,70\n"
      ]
    },
    {
      "cell_type": "code",
      "metadata": {
        "id": "CwcK-Vo81pau"
      },
      "source": [
        "x = [1,2,3,4]\n",
        "y1 = [4,3,2,1]\n",
        "y2 = [10,20,30,40]\n",
        "y3 = [40,30,20,10]\n",
        "y4 = [1,2,1,2]\n",
        "y5 = [40,70,90,70]\n"
      ],
      "execution_count": 23,
      "outputs": []
    },
    {
      "cell_type": "code",
      "metadata": {
        "colab": {
          "base_uri": "https://localhost:8080/",
          "height": 207
        },
        "id": "4PfvWmpD12PU",
        "outputId": "f88120b1-c76d-478a-a608-fc3c9272423e"
      },
      "source": [
        "plt.subplot(3,3,1)\n",
        "plt.plot(x,y1,'go--')\n",
        "plt.subplot(3,3,2)\n",
        "plt.plot(x,y2,'r+--')\n",
        "plt.subplot(3,3,3)\n",
        "plt.plot(x,y3,'o--')\n",
        "plt.subplot(3,3,4)\n",
        "plt.plot(x,y4,'go')\n",
        "plt.subplot(3,3,5)\n",
        "plt.plot(x,y5,'r')\n"
      ],
      "execution_count": 25,
      "outputs": [
        {
          "output_type": "execute_result",
          "data": {
            "text/plain": [
              "[<matplotlib.lines.Line2D at 0x7ff3c19f1150>]"
            ]
          },
          "metadata": {
            "tags": []
          },
          "execution_count": 25
        },
        {
          "output_type": "display_data",
          "data": {
            "image/png": "[encoded data removed]",
            "text/plain": [
              "<Figure size 432x288 with 5 Axes>"
            ]
          },
          "metadata": {
            "tags": [],
            "needs_background": "light"
          }
        }
      ]
    }
  ]
}
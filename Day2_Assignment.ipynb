{
  "nbformat": 4,
  "nbformat_minor": 0,
  "metadata": {
    "colab": {
      "name": "Day2_Assignment.ipynb",
      "provenance": [],
      "authorship_tag": "ABX9TyPiixs/eQaHQyZc5Pn+Q0a/",
      "include_colab_link": true
    },
    "kernelspec": {
      "name": "python3",
      "display_name": "Python 3"
    },
    "language_info": {
      "name": "python"
    }
  },
  "cells": [
    {
      "cell_type": "markdown",
      "metadata": {
        "id": "view-in-github",
        "colab_type": "text"
      },
      "source": [
        "<a href=\"https://colab.research.google.com/github/LP-Shreya/Assignments-Data_Visualization/blob/main/Day2_Assignment.ipynb\" target=\"_parent\"><img src=\"https://colab.research.google.com/assets/colab-badge.svg\" alt=\"Open In Colab\"/></a>"
      ]
    },
    {
      "cell_type": "code",
      "metadata": {
        "id": "py0ttEKuLfdp"
      },
      "source": [
        "import numpy as np\n",
        "import pandas as pd\n",
        "# import seaborn as sns\n",
        "\n",
        "# import matplotlib as mpl\n",
        "import matplotlib.pyplot as plt\n",
        "import numpy as np\n",
        "%matplotlib inline\n",
        "from numpy.random import randn,randint,uniform,sample"
      ],
      "execution_count": 1,
      "outputs": []
    },
    {
      "cell_type": "markdown",
      "metadata": {
        "id": "V8AbE7CwLGFC"
      },
      "source": [
        "**LECTURE ASSIGNMENT**\n",
        "\n",
        "---\n",
        "\n",
        "\n",
        "Create a dataframe with 10 rows on random number and 4 columns labelled as (a,b,c,d"
      ]
    },
    {
      "cell_type": "code",
      "metadata": {
        "id": "p1lSmngjLdVr"
      },
      "source": [
        "df=pd.DataFrame(randn(10,4),columns=['a','b','c','d'])"
      ],
      "execution_count": 2,
      "outputs": []
    },
    {
      "cell_type": "code",
      "metadata": {
        "colab": {
          "base_uri": "https://localhost:8080/",
          "height": 204
        },
        "id": "HSWleY61MdDK",
        "outputId": "e6ae3474-7bb3-4de8-ea93-4b277b8f1085"
      },
      "source": [
        "df.head(5)"
      ],
      "execution_count": 3,
      "outputs": [
        {
          "output_type": "execute_result",
          "data": {
            "text/html": [
              "<div>\n",
              "<style scoped>\n",
              "    .dataframe tbody tr th:only-of-type {\n",
              "        vertical-align: middle;\n",
              "    }\n",
              "\n",
              "    .dataframe tbody tr th {\n",
              "        vertical-align: top;\n",
              "    }\n",
              "\n",
              "    .dataframe thead th {\n",
              "        text-align: right;\n",
              "    }\n",
              "</style>\n",
              "<table border=\"1\" class=\"dataframe\">\n",
              "  <thead>\n",
              "    <tr style=\"text-align: right;\">\n",
              "      <th></th>\n",
              "      <th>a</th>\n",
              "      <th>b</th>\n",
              "      <th>c</th>\n",
              "      <th>d</th>\n",
              "    </tr>\n",
              "  </thead>\n",
              "  <tbody>\n",
              "    <tr>\n",
              "      <th>0</th>\n",
              "      <td>0.684213</td>\n",
              "      <td>0.052191</td>\n",
              "      <td>-0.308171</td>\n",
              "      <td>1.459105</td>\n",
              "    </tr>\n",
              "    <tr>\n",
              "      <th>1</th>\n",
              "      <td>1.134900</td>\n",
              "      <td>-0.207922</td>\n",
              "      <td>1.045137</td>\n",
              "      <td>-0.567562</td>\n",
              "    </tr>\n",
              "    <tr>\n",
              "      <th>2</th>\n",
              "      <td>-0.365712</td>\n",
              "      <td>0.802816</td>\n",
              "      <td>-0.342508</td>\n",
              "      <td>-0.509848</td>\n",
              "    </tr>\n",
              "    <tr>\n",
              "      <th>3</th>\n",
              "      <td>-0.092572</td>\n",
              "      <td>0.278858</td>\n",
              "      <td>0.195019</td>\n",
              "      <td>-0.419426</td>\n",
              "    </tr>\n",
              "    <tr>\n",
              "      <th>4</th>\n",
              "      <td>-0.835644</td>\n",
              "      <td>1.637357</td>\n",
              "      <td>0.292678</td>\n",
              "      <td>-1.048250</td>\n",
              "    </tr>\n",
              "  </tbody>\n",
              "</table>\n",
              "</div>"
            ],
            "text/plain": [
              "          a         b         c         d\n",
              "0  0.684213  0.052191 -0.308171  1.459105\n",
              "1  1.134900 -0.207922  1.045137 -0.567562\n",
              "2 -0.365712  0.802816 -0.342508 -0.509848\n",
              "3 -0.092572  0.278858  0.195019 -0.419426\n",
              "4 -0.835644  1.637357  0.292678 -1.048250"
            ]
          },
          "metadata": {
            "tags": []
          },
          "execution_count": 3
        }
      ]
    },
    {
      "cell_type": "code",
      "metadata": {
        "colab": {
          "base_uri": "https://localhost:8080/",
          "height": 418
        },
        "id": "hxusf28ELeyZ",
        "outputId": "81b9189a-2344-4329-dc86-5706e4d629b2"
      },
      "source": [
        "df.plot(kind='bar',figsize=(8,6))\n",
        "plt.title('Bar Graph',c='g')\n",
        "plt.xlabel('x axis',c='b')\n",
        "plt.ylabel('y axis',c='b')"
      ],
      "execution_count": 4,
      "outputs": [
        {
          "output_type": "execute_result",
          "data": {
            "text/plain": [
              "Text(0, 0.5, 'y axis')"
            ]
          },
          "metadata": {
            "tags": []
          },
          "execution_count": 4
        },
        {
          "output_type": "display_data",
          "data": {
            "image/png": "[encoded data removed]",
            "text/plain": [
              "<Figure size 576x432 with 1 Axes>"
            ]
          },
          "metadata": {
            "tags": [],
            "needs_background": "light"
          }
        }
      ]
    }
  ]
}